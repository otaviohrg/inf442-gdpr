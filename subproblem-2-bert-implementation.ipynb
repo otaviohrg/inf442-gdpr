{
 "cells": [
  {
   "cell_type": "code",
   "execution_count": null,
   "metadata": {},
   "outputs": [],
   "source": [
    "labels = [\"O\", \"B-MISC\", \"I-MISC\", \"B-PER\", \"I-PER\", \"B-ORG\", \"I-ORG\", \"B-LOC\", \"I-LOC\"]"
   ]
  },
  {
   "cell_type": "code",
   "execution_count": 2,
   "metadata": {},
   "outputs": [
    {
     "data": {
      "application/vnd.jupyter.widget-view+json": {
       "model_id": "699099b336c74c43aeaa855ba830e7a8",
       "version_major": 2,
       "version_minor": 0
      },
      "text/plain": [
       "tokenizer_config.json:   0%|          | 0.00/49.0 [00:00<?, ?B/s]"
      ]
     },
     "metadata": {},
     "output_type": "display_data"
    },
    {
     "data": {
      "application/vnd.jupyter.widget-view+json": {
       "model_id": "10739c6a3fcb49e4bf772da1aeadf37f",
       "version_major": 2,
       "version_minor": 0
      },
      "text/plain": [
       "vocab.txt:   0%|          | 0.00/213k [00:00<?, ?B/s]"
      ]
     },
     "metadata": {},
     "output_type": "display_data"
    },
    {
     "data": {
      "application/vnd.jupyter.widget-view+json": {
       "model_id": "5d5781bf88c5426991fd01b396dfce17",
       "version_major": 2,
       "version_minor": 0
      },
      "text/plain": [
       "tokenizer.json:   0%|          | 0.00/436k [00:00<?, ?B/s]"
      ]
     },
     "metadata": {},
     "output_type": "display_data"
    },
    {
     "data": {
      "application/vnd.jupyter.widget-view+json": {
       "model_id": "9c23f816e7af429c88c4156a94389a1a",
       "version_major": 2,
       "version_minor": 0
      },
      "text/plain": [
       "config.json:   0%|          | 0.00/570 [00:00<?, ?B/s]"
      ]
     },
     "metadata": {},
     "output_type": "display_data"
    }
   ],
   "source": [
    "dataset = \"eng.train\"\n",
    "\n",
    "import torch\n",
    "\n",
    "from torch.utils.data import TensorDataset\n",
    "from transformers import BertTokenizer\n",
    "from gdpr.data.default_parse import read_examples_from_file, convert_examples_to_features\n",
    "\n",
    "tokenizer = BertTokenizer.from_pretrained(\"bert-base-cased\")\n",
    "examples = read_examples_from_file(\".\", mode=f\"data/{dataset}\")\n",
    "pad_token_label_id = torch.nn.CrossEntropyLoss().ignore_index\n",
    "\n",
    "features = convert_examples_to_features(\n",
    "    examples,\n",
    "    label_list=labels,\n",
    "    max_seq_length=128,\n",
    "    tokenizer=tokenizer,\n",
    "    cls_token_at_end=False,\n",
    "    cls_token=tokenizer.cls_token,\n",
    "    cls_token_segment_id=0,\n",
    "    sep_token=tokenizer.sep_token,\n",
    "    sep_token_extra=False,\n",
    "    pad_on_left=False,\n",
    "    pad_token=tokenizer.convert_tokens_to_ids([tokenizer.pad_token])[0],\n",
    "    pad_token_segment_id=0,\n",
    "    pad_token_label_id=pad_token_label_id)\n",
    "\n",
    "all_input_ids = torch.tensor([f.input_ids for f in features], dtype=torch.long)\n",
    "all_input_mask = torch.tensor([f.input_mask for f in features], dtype=torch.long)\n",
    "all_segment_ids = torch.tensor([f.segment_ids for f in features], dtype=torch.long)\n",
    "all_label_ids = torch.tensor([f.label_ids for f in features], dtype=torch.long)\n",
    "\n",
    "tensordataset = TensorDataset(all_input_ids, all_input_mask, all_segment_ids, all_label_ids)\n",
    "\n",
    "\n",
    "dataset_test = \"eng.testa\"\n",
    "test_examples = read_examples_from_file(\".\", mode=f\"data/{dataset_test}\")\n",
    "\n",
    "test_features = convert_examples_to_features(\n",
    "    test_examples,\n",
    "    label_list=labels,\n",
    "    max_seq_length=128,\n",
    "    tokenizer=tokenizer,\n",
    "    cls_token_at_end=False,\n",
    "    cls_token=tokenizer.cls_token,\n",
    "    cls_token_segment_id=0,\n",
    "    sep_token=tokenizer.sep_token,\n",
    "    sep_token_extra=False,\n",
    "    pad_on_left=False,\n",
    "    pad_token=tokenizer.convert_tokens_to_ids([tokenizer.pad_token])[0],\n",
    "    pad_token_segment_id=0,\n",
    "    pad_token_label_id=pad_token_label_id)\n",
    "\n",
    "\n",
    "all_input_ids = torch.tensor([f.input_ids for f in test_features], dtype=torch.long)\n",
    "all_input_mask = torch.tensor([f.input_mask for f in test_features], dtype=torch.long)\n",
    "all_segment_ids = torch.tensor([f.segment_ids for f in test_features], dtype=torch.long)\n",
    "all_label_ids = torch.tensor([f.label_ids for f in test_features], dtype=torch.long)\n",
    "\n",
    "test_tensordataset = TensorDataset(all_input_ids, all_input_mask, all_segment_ids, all_label_ids)\n"
   ]
  },
  {
   "cell_type": "code",
   "execution_count": null,
   "metadata": {},
   "outputs": [],
   "source": [
    "from torch.utils.data import DataLoader, RandomSampler, SequentialSampler\n",
    "\n",
    "eval_sampler = SequentialSampler(tensordataset)\n",
    "eval_dataloader = DataLoader(tensordataset, sampler=eval_sampler, batch_size=1)\n",
    "\n",
    "eval_sampler = SequentialSampler(test_tensordataset)\n",
    "test_eval_dataloader = DataLoader(test_tensordataset, sampler=eval_sampler, batch_size=1)"
   ]
  },
  {
   "cell_type": "code",
   "execution_count": null,
   "metadata": {},
   "outputs": [],
   "source": [
    "from gdpr.models.bert_model.bert import BERT\n",
    "\n",
    "model = BERT(vocab_size=len(tokenizer.vocab), patch_size=128)\n",
    "\n",
    "total_params = sum(p.numel() for p in model.parameters())\n",
    "print(f'Total parameters: {total_params}')"
   ]
  },
  {
   "cell_type": "code",
   "execution_count": null,
   "metadata": {},
   "outputs": [],
   "source": [
    "from gdpr.train.bert_train_steps import train\n",
    "\n",
    "optimizer = torch.optim.Adam(params=model.parameters(),\n",
    "                             lr=3e-3,\n",
    "                             betas=(0.9, 0.999),\n",
    "                             weight_decay=0.3)\n",
    "device = \"cuda\" if torch.cuda.is_available() else \"cpu\"\n",
    "model.to(device)\n",
    "\n",
    "epochs = 1\n",
    "\n",
    "# print(train_step(model, eval_dataloader, torch.nn.CrossEntropyLoss(), optimizer, device))\n",
    "results = train(model, eval_dataloader, test_eval_dataloader, optimizer, torch.nn.CrossEntropyLoss(), epochs, device)"
   ]
  }
 ],
 "metadata": {
  "kernelspec": {
   "display_name": "venv",
   "language": "python",
   "name": "python3"
  },
  "language_info": {
   "codemirror_mode": {
    "name": "ipython",
    "version": 3
   },
   "file_extension": ".py",
   "mimetype": "text/x-python",
   "name": "python",
   "nbconvert_exporter": "python",
   "pygments_lexer": "ipython3",
   "version": "3.10.9"
  }
 },
 "nbformat": 4,
 "nbformat_minor": 2
}
