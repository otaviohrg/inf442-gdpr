{
 "cells": [
  {
   "cell_type": "code",
   "execution_count": 1,
   "metadata": {},
   "outputs": [],
   "source": [
    "labels = [\"O\", \"B-MISC\", \"I-MISC\", \"B-PER\", \"I-PER\", \"B-ORG\", \"I-ORG\", \"B-LOC\", \"I-LOC\"]"
   ]
  },
  {
   "cell_type": "code",
   "execution_count": 2,
   "metadata": {},
   "outputs": [],
   "source": [
    "\n",
    "import torch\n",
    "\n",
    "from torch.utils.data import TensorDataset\n",
    "from transformers import BertTokenizer\n",
    "from gdpr.data.default_parse import read_examples_from_file, convert_examples_to_features\n",
    "\n",
    "tokenizer = BertTokenizer.from_pretrained(\"bert-base-cased\")\n",
    "\n",
    "\n"
   ]
  },
  {
   "cell_type": "code",
   "execution_count": 3,
   "metadata": {},
   "outputs": [
    {
     "ename": "KeyboardInterrupt",
     "evalue": "",
     "output_type": "error",
     "traceback": [
      "\u001B[0;31m---------------------------------------------------------------------------\u001B[0m",
      "\u001B[0;31mKeyboardInterrupt\u001B[0m                         Traceback (most recent call last)",
      "Cell \u001B[0;32mIn[3], line 5\u001B[0m\n\u001B[1;32m      2\u001B[0m examples \u001B[38;5;241m=\u001B[39m read_examples_from_file(\u001B[38;5;124m\"\u001B[39m\u001B[38;5;124m.\u001B[39m\u001B[38;5;124m\"\u001B[39m, mode\u001B[38;5;241m=\u001B[39m\u001B[38;5;124mf\u001B[39m\u001B[38;5;124m\"\u001B[39m\u001B[38;5;124mdata/\u001B[39m\u001B[38;5;132;01m{\u001B[39;00mdataset\u001B[38;5;132;01m}\u001B[39;00m\u001B[38;5;124m\"\u001B[39m)\n\u001B[1;32m      3\u001B[0m pad_token_label_id \u001B[38;5;241m=\u001B[39m torch\u001B[38;5;241m.\u001B[39mnn\u001B[38;5;241m.\u001B[39mCrossEntropyLoss()\u001B[38;5;241m.\u001B[39mignore_index\n\u001B[0;32m----> 5\u001B[0m features \u001B[38;5;241m=\u001B[39m \u001B[43mconvert_examples_to_features\u001B[49m\u001B[43m(\u001B[49m\n\u001B[1;32m      6\u001B[0m \u001B[43m    \u001B[49m\u001B[43mexamples\u001B[49m\u001B[43m,\u001B[49m\n\u001B[1;32m      7\u001B[0m \u001B[43m    \u001B[49m\u001B[43mlabel_list\u001B[49m\u001B[38;5;241;43m=\u001B[39;49m\u001B[43mlabels\u001B[49m\u001B[43m,\u001B[49m\n\u001B[1;32m      8\u001B[0m \u001B[43m    \u001B[49m\u001B[43mmax_seq_length\u001B[49m\u001B[38;5;241;43m=\u001B[39;49m\u001B[38;5;241;43m128\u001B[39;49m\u001B[43m,\u001B[49m\n\u001B[1;32m      9\u001B[0m \u001B[43m    \u001B[49m\u001B[43mtokenizer\u001B[49m\u001B[38;5;241;43m=\u001B[39;49m\u001B[43mtokenizer\u001B[49m\u001B[43m,\u001B[49m\n\u001B[1;32m     10\u001B[0m \u001B[43m    \u001B[49m\u001B[43mcls_token_at_end\u001B[49m\u001B[38;5;241;43m=\u001B[39;49m\u001B[38;5;28;43;01mFalse\u001B[39;49;00m\u001B[43m,\u001B[49m\n\u001B[1;32m     11\u001B[0m \u001B[43m    \u001B[49m\u001B[43mcls_token\u001B[49m\u001B[38;5;241;43m=\u001B[39;49m\u001B[43mtokenizer\u001B[49m\u001B[38;5;241;43m.\u001B[39;49m\u001B[43mcls_token\u001B[49m\u001B[43m,\u001B[49m\n\u001B[1;32m     12\u001B[0m \u001B[43m    \u001B[49m\u001B[43mcls_token_segment_id\u001B[49m\u001B[38;5;241;43m=\u001B[39;49m\u001B[38;5;241;43m0\u001B[39;49m\u001B[43m,\u001B[49m\n\u001B[1;32m     13\u001B[0m \u001B[43m    \u001B[49m\u001B[43msep_token\u001B[49m\u001B[38;5;241;43m=\u001B[39;49m\u001B[43mtokenizer\u001B[49m\u001B[38;5;241;43m.\u001B[39;49m\u001B[43msep_token\u001B[49m\u001B[43m,\u001B[49m\n\u001B[1;32m     14\u001B[0m \u001B[43m    \u001B[49m\u001B[43msep_token_extra\u001B[49m\u001B[38;5;241;43m=\u001B[39;49m\u001B[38;5;28;43;01mFalse\u001B[39;49;00m\u001B[43m,\u001B[49m\n\u001B[1;32m     15\u001B[0m \u001B[43m    \u001B[49m\u001B[43mpad_on_left\u001B[49m\u001B[38;5;241;43m=\u001B[39;49m\u001B[38;5;28;43;01mFalse\u001B[39;49;00m\u001B[43m,\u001B[49m\n\u001B[1;32m     16\u001B[0m \u001B[43m    \u001B[49m\u001B[43mpad_token\u001B[49m\u001B[38;5;241;43m=\u001B[39;49m\u001B[43mtokenizer\u001B[49m\u001B[38;5;241;43m.\u001B[39;49m\u001B[43mconvert_tokens_to_ids\u001B[49m\u001B[43m(\u001B[49m\u001B[43m[\u001B[49m\u001B[43mtokenizer\u001B[49m\u001B[38;5;241;43m.\u001B[39;49m\u001B[43mpad_token\u001B[49m\u001B[43m]\u001B[49m\u001B[43m)\u001B[49m\u001B[43m[\u001B[49m\u001B[38;5;241;43m0\u001B[39;49m\u001B[43m]\u001B[49m\u001B[43m,\u001B[49m\n\u001B[1;32m     17\u001B[0m \u001B[43m    \u001B[49m\u001B[43mpad_token_segment_id\u001B[49m\u001B[38;5;241;43m=\u001B[39;49m\u001B[38;5;241;43m0\u001B[39;49m\u001B[43m,\u001B[49m\n\u001B[1;32m     18\u001B[0m \u001B[43m    \u001B[49m\u001B[43mpad_token_label_id\u001B[49m\u001B[38;5;241;43m=\u001B[39;49m\u001B[43mpad_token_label_id\u001B[49m\u001B[43m)\u001B[49m\n\u001B[1;32m     20\u001B[0m all_input_ids \u001B[38;5;241m=\u001B[39m torch\u001B[38;5;241m.\u001B[39mtensor([f\u001B[38;5;241m.\u001B[39minput_ids \u001B[38;5;28;01mfor\u001B[39;00m f \u001B[38;5;129;01min\u001B[39;00m features], dtype\u001B[38;5;241m=\u001B[39mtorch\u001B[38;5;241m.\u001B[39mlong)\n\u001B[1;32m     21\u001B[0m all_input_mask \u001B[38;5;241m=\u001B[39m torch\u001B[38;5;241m.\u001B[39mtensor([f\u001B[38;5;241m.\u001B[39minput_mask \u001B[38;5;28;01mfor\u001B[39;00m f \u001B[38;5;129;01min\u001B[39;00m features], dtype\u001B[38;5;241m=\u001B[39mtorch\u001B[38;5;241m.\u001B[39mlong)\n",
      "File \u001B[0;32m~/Desktop/X/X1P3/inf442-gdpr/gdpr/data/default_parse.py:105\u001B[0m, in \u001B[0;36mconvert_examples_to_features\u001B[0;34m(examples, label_list, max_seq_length, tokenizer, cls_token_at_end, cls_token, cls_token_segment_id, sep_token, sep_token_extra, pad_on_left, pad_token, pad_token_segment_id, pad_token_label_id, sequence_a_segment_id, mask_padding_with_zero)\u001B[0m\n\u001B[1;32m    103\u001B[0m label_ids \u001B[38;5;241m=\u001B[39m []\n\u001B[1;32m    104\u001B[0m \u001B[38;5;28;01mfor\u001B[39;00m word, label \u001B[38;5;129;01min\u001B[39;00m \u001B[38;5;28mzip\u001B[39m(example\u001B[38;5;241m.\u001B[39mwords, example\u001B[38;5;241m.\u001B[39mlabels):\n\u001B[0;32m--> 105\u001B[0m     word_tokens \u001B[38;5;241m=\u001B[39m \u001B[43mtokenizer\u001B[49m\u001B[38;5;241;43m.\u001B[39;49m\u001B[43mtokenize\u001B[49m\u001B[43m(\u001B[49m\u001B[43mword\u001B[49m\u001B[43m)\u001B[49m\n\u001B[1;32m    106\u001B[0m     tokens\u001B[38;5;241m.\u001B[39mextend(word_tokens)\n\u001B[1;32m    107\u001B[0m     \u001B[38;5;66;03m# Use the real label id for the first token of the word, and padding ids for the remaining tokens\u001B[39;00m\n",
      "File \u001B[0;32m/Library/Frameworks/Python.framework/Versions/3.10/lib/python3.10/site-packages/transformers/tokenization_utils.py:581\u001B[0m, in \u001B[0;36mPreTrainedTokenizer.tokenize\u001B[0;34m(self, text, **kwargs)\u001B[0m\n\u001B[1;32m    579\u001B[0m     no_split_token \u001B[38;5;241m=\u001B[39m \u001B[38;5;28mself\u001B[39m\u001B[38;5;241m.\u001B[39m_added_tokens_encoder\u001B[38;5;241m.\u001B[39mkeys()  \u001B[38;5;66;03m# don't split on any of the added tokens\u001B[39;00m\n\u001B[1;32m    580\u001B[0m     \u001B[38;5;66;03m# \"This is something<special_token_1>  else\"\u001B[39;00m\n\u001B[0;32m--> 581\u001B[0m     tokens \u001B[38;5;241m=\u001B[39m \u001B[38;5;28;43mself\u001B[39;49m\u001B[38;5;241;43m.\u001B[39;49m\u001B[43mtokens_trie\u001B[49m\u001B[38;5;241;43m.\u001B[39;49m\u001B[43msplit\u001B[49m\u001B[43m(\u001B[49m\u001B[43mtext\u001B[49m\u001B[43m)\u001B[49m\n\u001B[1;32m    583\u001B[0m \u001B[38;5;66;03m# [\"This is something\", \"<special_token_1>\", \"  else\"]\u001B[39;00m\n\u001B[1;32m    584\u001B[0m \u001B[38;5;28;01mfor\u001B[39;00m i, token \u001B[38;5;129;01min\u001B[39;00m \u001B[38;5;28menumerate\u001B[39m(tokens):\n",
      "File \u001B[0;32m/Library/Frameworks/Python.framework/Versions/3.10/lib/python3.10/site-packages/transformers/tokenization_utils.py:244\u001B[0m, in \u001B[0;36mTrie.split\u001B[0;34m(self, text)\u001B[0m\n\u001B[1;32m    240\u001B[0m         \u001B[38;5;66;03m# Longest cut is always the one with lower start so the first\u001B[39;00m\n\u001B[1;32m    241\u001B[0m         \u001B[38;5;66;03m# item so we need to break.\u001B[39;00m\n\u001B[1;32m    242\u001B[0m         \u001B[38;5;28;01mbreak\u001B[39;00m\n\u001B[0;32m--> 244\u001B[0m \u001B[38;5;28;01mreturn\u001B[39;00m \u001B[38;5;28;43mself\u001B[39;49m\u001B[38;5;241;43m.\u001B[39;49m\u001B[43mcut_text\u001B[49m\u001B[43m(\u001B[49m\u001B[43mtext\u001B[49m\u001B[43m,\u001B[49m\u001B[43m \u001B[49m\u001B[43moffsets\u001B[49m\u001B[43m)\u001B[49m\n",
      "File \u001B[0;32m/Library/Frameworks/Python.framework/Versions/3.10/lib/python3.10/site-packages/transformers/tokenization_utils.py:265\u001B[0m, in \u001B[0;36mTrie.cut_text\u001B[0;34m(self, text, offsets)\u001B[0m\n\u001B[1;32m    260\u001B[0m     \u001B[38;5;28;01melif\u001B[39;00m start \u001B[38;5;241m==\u001B[39m end:\n\u001B[1;32m    261\u001B[0m         \u001B[38;5;66;03m# This might happen if there's a match at index 0\u001B[39;00m\n\u001B[1;32m    262\u001B[0m         \u001B[38;5;66;03m# we're also preventing zero-width cuts in case of two\u001B[39;00m\n\u001B[1;32m    263\u001B[0m         \u001B[38;5;66;03m# consecutive matches\u001B[39;00m\n\u001B[1;32m    264\u001B[0m         \u001B[38;5;28;01mcontinue\u001B[39;00m\n\u001B[0;32m--> 265\u001B[0m     \u001B[43mtokens\u001B[49m\u001B[38;5;241;43m.\u001B[39;49m\u001B[43mappend\u001B[49m\u001B[43m(\u001B[49m\u001B[43mtext\u001B[49m\u001B[43m[\u001B[49m\u001B[43mstart\u001B[49m\u001B[43m:\u001B[49m\u001B[43mend\u001B[49m\u001B[43m]\u001B[49m\u001B[43m)\u001B[49m\n\u001B[1;32m    266\u001B[0m     start \u001B[38;5;241m=\u001B[39m end\n\u001B[1;32m    268\u001B[0m \u001B[38;5;28;01mreturn\u001B[39;00m tokens\n",
      "\u001B[0;31mKeyboardInterrupt\u001B[0m: "
     ]
    }
   ],
   "source": [
    "dataset = \"eng.train\"\n",
    "examples = read_examples_from_file(\".\", mode=f\"data/{dataset}\")\n",
    "pad_token_label_id = torch.nn.CrossEntropyLoss().ignore_index\n",
    "\n",
    "features = convert_examples_to_features(\n",
    "    examples,\n",
    "    label_list=labels,\n",
    "    max_seq_length=128,\n",
    "    tokenizer=tokenizer,\n",
    "    cls_token_at_end=False,\n",
    "    cls_token=tokenizer.cls_token,\n",
    "    cls_token_segment_id=0,\n",
    "    sep_token=tokenizer.sep_token,\n",
    "    sep_token_extra=False,\n",
    "    pad_on_left=False,\n",
    "    pad_token=tokenizer.convert_tokens_to_ids([tokenizer.pad_token])[0],\n",
    "    pad_token_segment_id=0,\n",
    "    pad_token_label_id=pad_token_label_id)\n",
    "\n",
    "all_input_ids = torch.tensor([f.input_ids for f in features], dtype=torch.long)\n",
    "all_input_mask = torch.tensor([f.input_mask for f in features], dtype=torch.long)\n",
    "all_segment_ids = torch.tensor([f.segment_ids for f in features], dtype=torch.long)\n",
    "all_label_ids = torch.tensor([f.label_ids for f in features], dtype=torch.long)\n",
    "\n",
    "tensordataset = TensorDataset(all_input_ids, all_input_mask, all_segment_ids, all_label_ids)\n",
    "\n",
    "\n",
    "dataset_test = \"eng.testa\"\n",
    "test_examples = read_examples_from_file(\".\", mode=f\"data/{dataset_test}\")\n",
    "\n",
    "test_features = convert_examples_to_features(\n",
    "    test_examples,\n",
    "    label_list=labels,\n",
    "    max_seq_length=128,\n",
    "    tokenizer=tokenizer,\n",
    "    cls_token_at_end=False,\n",
    "    cls_token=tokenizer.cls_token,\n",
    "    cls_token_segment_id=0,\n",
    "    sep_token=tokenizer.sep_token,\n",
    "    sep_token_extra=False,\n",
    "    pad_on_left=False,\n",
    "    pad_token=tokenizer.convert_tokens_to_ids([tokenizer.pad_token])[0],\n",
    "    pad_token_segment_id=0,\n",
    "    pad_token_label_id=pad_token_label_id)\n",
    "\n",
    "\n",
    "all_input_ids = torch.tensor([f.input_ids for f in test_features], dtype=torch.long)\n",
    "all_input_mask = torch.tensor([f.input_mask for f in test_features], dtype=torch.long)\n",
    "all_segment_ids = torch.tensor([f.segment_ids for f in test_features], dtype=torch.long)\n",
    "all_label_ids = torch.tensor([f.label_ids for f in test_features], dtype=torch.long)\n",
    "\n",
    "test_tensordataset = TensorDataset(all_input_ids, all_input_mask, all_segment_ids, all_label_ids)"
   ]
  },
  {
   "cell_type": "code",
   "execution_count": null,
   "metadata": {},
   "outputs": [],
   "source": [
    "from torch.utils.data import DataLoader, RandomSampler, SequentialSampler\n",
    "\n",
    "eval_sampler = SequentialSampler(tensordataset)\n",
    "eval_dataloader = DataLoader(tensordataset, sampler=eval_sampler, batch_size=1)\n",
    "\n",
    "eval_sampler = SequentialSampler(test_tensordataset)\n",
    "test_eval_dataloader = DataLoader(test_tensordataset, sampler=eval_sampler, batch_size=16)"
   ]
  },
  {
   "cell_type": "code",
   "execution_count": null,
   "metadata": {},
   "outputs": [
    {
     "name": "stdout",
     "output_type": "stream",
     "text": [
      "Total parameters: 22959241\n"
     ]
    }
   ],
   "source": [
    "from gdpr.models.lstm_model.lstm import LSTM\n",
    "\n",
    "model = LSTM(vocab_size=len(tokenizer.vocab))\n",
    "\n",
    "total_params = sum(p.numel() for p in model.parameters())\n",
    "print(f'Total parameters: {total_params}')"
   ]
  },
  {
   "cell_type": "code",
   "execution_count": null,
   "metadata": {},
   "outputs": [
    {
     "data": {
      "application/vnd.jupyter.widget-view+json": {
       "model_id": "4b16cf5c72ab4a13b6289842453a9861",
       "version_major": 2,
       "version_minor": 0
      },
      "text/plain": [
       "  0%|          | 0/1 [00:00<?, ?it/s]"
      ]
     },
     "metadata": {},
     "output_type": "display_data"
    },
    {
     "name": "stdout",
     "output_type": "stream",
     "text": [
      "0.0 batch:  0\n",
      "0.021179537308569567 batch:  5\n",
      "0.2607326940758026 batch:  10\n",
      "0.45929035721374434 batch:  15\n",
      "0.5564903116658335 batch:  20\n",
      "0.6053108561257008 batch:  25\n",
      "0.6345268819844937 batch:  30\n",
      "0.6680564291389482 batch:  35\n",
      "0.6783399075830951 batch:  40\n",
      "0.6957987262111324 batch:  45\n",
      "0.716565424388379 batch:  50\n",
      "0.7331025144916968 batch:  55\n",
      "0.7294256292142286 batch:  60\n",
      "0.7275981595997439 batch:  65\n",
      "0.7411922977008126 batch:  70\n",
      "0.7492383349239212 batch:  75\n",
      "0.7500371714829067 batch:  80\n",
      "0.7586105917455285 batch:  85\n",
      "0.7626290225147868 batch:  90\n",
      "0.7497606127773268 batch:  95\n",
      "0.7562358215041832 batch:  100\n",
      "0.7620084424056549 batch:  105\n",
      "0.7659595760686259 batch:  110\n",
      "0.7742618110902983 batch:  115\n",
      "0.7774204255126844 batch:  120\n",
      "0.777864810445959 batch:  125\n",
      "0.7713067625680199 batch:  130\n",
      "0.7711662864185506 batch:  135\n",
      "0.7706597587754178 batch:  140\n",
      "0.7708237312440513 batch:  145\n",
      "0.7767595504109858 batch:  150\n",
      "0.7748314015897857 batch:  155\n",
      "0.7738398333075844 batch:  160\n",
      "0.7721279096613911 batch:  165\n",
      "0.7660827840977427 batch:  170\n",
      "0.7701813642395581 batch:  175\n",
      "0.7729488443892459 batch:  180\n",
      "0.7763456194931975 batch:  185\n",
      "0.773699629904483 batch:  190\n",
      "0.7748751744421488 batch:  195\n",
      "0.771703676380925 batch:  200\n",
      "0.768615426641457 batch:  205\n",
      "0.7657820662719347 batch:  210\n",
      "0.7637963702934177 batch:  215\n",
      "0.758108514911059 batch:  220\n",
      "0.7554980486545189 batch:  225\n",
      "0.7607902986836418 batch:  230\n",
      "0.7631119103719199 batch:  235\n",
      "0.7649685249409824 batch:  240\n",
      "0.7599185129809614 batch:  245\n",
      "0.7647010127223764 batch:  250\n",
      "0.7692966960676425 batch:  255\n",
      "0.7737162995912509 batch:  260\n",
      "0.7750849363992683 batch:  265\n",
      "0.7734228527018647 batch:  270\n",
      "0.7762670302967349 batch:  275\n",
      "0.7756658132537082 batch:  280\n",
      "0.7763852602565837 batch:  285\n",
      "0.7795169744513669 batch:  290\n",
      "0.7823689115104933 batch:  295\n",
      "0.7825737610651505 batch:  300\n",
      "0.7829212872655895 batch:  305\n",
      "0.7856045972024838 batch:  310\n",
      "0.787589035227269 batch:  315\n",
      "0.7881971084837233 batch:  320\n",
      "0.7873821978484657 batch:  325\n",
      "0.7811898833853795 batch:  330\n",
      "0.7757855990793763 batch:  335\n",
      "0.7702979253615886 batch:  340\n",
      "0.7653000426893753 batch:  345\n",
      "0.7636380641415089 batch:  350\n",
      "0.7614532712193081 batch:  355\n",
      "0.7623691239562684 batch:  360\n",
      "0.7645784680441593 batch:  365\n",
      "0.7626451102689458 batch:  370\n",
      "0.7628893255713548 batch:  375\n",
      "0.7632826040134255 batch:  380\n",
      "0.7640172853085885 batch:  385\n",
      "0.7641851314957274 batch:  390\n",
      "0.7648056895997376 batch:  395\n",
      "0.7639323256990166 batch:  400\n",
      "0.7636129620820337 batch:  405\n",
      "0.7659167066945487 batch:  410\n",
      "0.7663200022808029 batch:  415\n",
      "0.765466373327877 batch:  420\n",
      "0.7647637426655353 batch:  425\n",
      "0.7630733003961858 batch:  430\n",
      "0.7615586486828773 batch:  435\n",
      "0.7611126574531647 batch:  440\n",
      "0.7585590775863503 batch:  445\n",
      "0.7552385514384709 batch:  450\n",
      "0.755995172850795 batch:  455\n",
      "0.7519828673541552 batch:  460\n",
      "0.7520142336369025 batch:  465\n",
      "0.7524052306667247 batch:  470\n"
     ]
    },
    {
     "ename": "KeyboardInterrupt",
     "evalue": "",
     "output_type": "error",
     "traceback": [
      "\u001B[0;31m---------------------------------------------------------------------------\u001B[0m",
      "\u001B[0;31mKeyboardInterrupt\u001B[0m                         Traceback (most recent call last)",
      "Cell \u001B[0;32mIn[7], line 13\u001B[0m\n\u001B[1;32m     10\u001B[0m epochs \u001B[38;5;241m=\u001B[39m \u001B[38;5;241m1\u001B[39m\n\u001B[1;32m     12\u001B[0m \u001B[38;5;66;03m# print(train_step(model, eval_dataloader, torch.nn.CrossEntropyLoss(), optimizer, device))\u001B[39;00m\n\u001B[0;32m---> 13\u001B[0m results \u001B[38;5;241m=\u001B[39m \u001B[43mtrain\u001B[49m\u001B[43m(\u001B[49m\u001B[43mmodel\u001B[49m\u001B[43m,\u001B[49m\u001B[43m \u001B[49m\u001B[43meval_dataloader\u001B[49m\u001B[43m,\u001B[49m\u001B[43m \u001B[49m\u001B[43meval_dataloader\u001B[49m\u001B[43m,\u001B[49m\u001B[43m \u001B[49m\u001B[43moptimizer\u001B[49m\u001B[43m,\u001B[49m\u001B[43m \u001B[49m\u001B[43mtorch\u001B[49m\u001B[38;5;241;43m.\u001B[39;49m\u001B[43mnn\u001B[49m\u001B[38;5;241;43m.\u001B[39;49m\u001B[43mCrossEntropyLoss\u001B[49m\u001B[43m(\u001B[49m\u001B[43m)\u001B[49m\u001B[43m,\u001B[49m\u001B[43m \u001B[49m\u001B[43mepochs\u001B[49m\u001B[43m,\u001B[49m\u001B[43m \u001B[49m\u001B[43mdevice\u001B[49m\u001B[43m)\u001B[49m\n",
      "File \u001B[0;32m~/Desktop/X/X1P3/inf442-gdpr/gdpr/train/lstm_train_steps.py:83\u001B[0m, in \u001B[0;36mtrain\u001B[0;34m(model, train_dataloader, test_dataloader, optimizer, loss_fn, epochs, device)\u001B[0m\n\u001B[1;32m     80\u001B[0m model\u001B[38;5;241m.\u001B[39mto(device)\n\u001B[1;32m     82\u001B[0m \u001B[38;5;28;01mfor\u001B[39;00m epoch \u001B[38;5;129;01min\u001B[39;00m tqdm(\u001B[38;5;28mrange\u001B[39m(epochs)):\n\u001B[0;32m---> 83\u001B[0m     train_loss, train_acc \u001B[38;5;241m=\u001B[39m \u001B[43mtrain_step\u001B[49m\u001B[43m(\u001B[49m\u001B[43mmodel\u001B[49m\u001B[38;5;241;43m=\u001B[39;49m\u001B[43mmodel\u001B[49m\u001B[43m,\u001B[49m\n\u001B[1;32m     84\u001B[0m \u001B[43m                                      \u001B[49m\u001B[43mdataloader\u001B[49m\u001B[38;5;241;43m=\u001B[39;49m\u001B[43mtrain_dataloader\u001B[49m\u001B[43m,\u001B[49m\n\u001B[1;32m     85\u001B[0m \u001B[43m                                      \u001B[49m\u001B[43mloss_fn\u001B[49m\u001B[38;5;241;43m=\u001B[39;49m\u001B[43mloss_fn\u001B[49m\u001B[43m,\u001B[49m\n\u001B[1;32m     86\u001B[0m \u001B[43m                                      \u001B[49m\u001B[43moptimizer\u001B[49m\u001B[38;5;241;43m=\u001B[39;49m\u001B[43moptimizer\u001B[49m\u001B[43m,\u001B[49m\n\u001B[1;32m     87\u001B[0m \u001B[43m                                      \u001B[49m\u001B[43mdevice\u001B[49m\u001B[38;5;241;43m=\u001B[39;49m\u001B[43mdevice\u001B[49m\u001B[43m)\u001B[49m\n\u001B[1;32m     88\u001B[0m     test_loss, test_acc \u001B[38;5;241m=\u001B[39m test_step(model\u001B[38;5;241m=\u001B[39mmodel,\n\u001B[1;32m     89\u001B[0m       dataloader\u001B[38;5;241m=\u001B[39mtest_dataloader,\n\u001B[1;32m     90\u001B[0m       loss_fn\u001B[38;5;241m=\u001B[39mloss_fn,\n\u001B[1;32m     91\u001B[0m       device\u001B[38;5;241m=\u001B[39mdevice)\n\u001B[1;32m     93\u001B[0m     \u001B[38;5;28mprint\u001B[39m(\n\u001B[1;32m     94\u001B[0m       \u001B[38;5;124mf\u001B[39m\u001B[38;5;124m\"\u001B[39m\u001B[38;5;124mEpoch: \u001B[39m\u001B[38;5;132;01m{\u001B[39;00mepoch\u001B[38;5;241m+\u001B[39m\u001B[38;5;241m1\u001B[39m\u001B[38;5;132;01m}\u001B[39;00m\u001B[38;5;124m | \u001B[39m\u001B[38;5;124m\"\u001B[39m\n\u001B[1;32m     95\u001B[0m       \u001B[38;5;124mf\u001B[39m\u001B[38;5;124m\"\u001B[39m\u001B[38;5;124mtrain_loss: \u001B[39m\u001B[38;5;132;01m{\u001B[39;00mtrain_loss\u001B[38;5;132;01m:\u001B[39;00m\u001B[38;5;124m.4f\u001B[39m\u001B[38;5;132;01m}\u001B[39;00m\u001B[38;5;124m | \u001B[39m\u001B[38;5;124m\"\u001B[39m\n\u001B[0;32m   (...)\u001B[0m\n\u001B[1;32m     98\u001B[0m       \u001B[38;5;124mf\u001B[39m\u001B[38;5;124m\"\u001B[39m\u001B[38;5;124mtest_acc: \u001B[39m\u001B[38;5;132;01m{\u001B[39;00mtest_acc\u001B[38;5;132;01m:\u001B[39;00m\u001B[38;5;124m.4f\u001B[39m\u001B[38;5;132;01m}\u001B[39;00m\u001B[38;5;124m\"\u001B[39m\n\u001B[1;32m     99\u001B[0m     )\n",
      "File \u001B[0;32m~/Desktop/X/X1P3/inf442-gdpr/gdpr/train/lstm_train_steps.py:26\u001B[0m, in \u001B[0;36mtrain_step\u001B[0;34m(model, dataloader, loss_fn, optimizer, device)\u001B[0m\n\u001B[1;32m     24\u001B[0m loss \u001B[38;5;241m=\u001B[39m loss_fn(preds, y)\n\u001B[1;32m     25\u001B[0m train_loss \u001B[38;5;241m+\u001B[39m\u001B[38;5;241m=\u001B[39m loss\u001B[38;5;241m.\u001B[39mitem()\n\u001B[0;32m---> 26\u001B[0m \u001B[43moptimizer\u001B[49m\u001B[38;5;241;43m.\u001B[39;49m\u001B[43mzero_grad\u001B[49m\u001B[43m(\u001B[49m\u001B[43m)\u001B[49m\n\u001B[1;32m     27\u001B[0m loss\u001B[38;5;241m.\u001B[39mbackward()\n\u001B[1;32m     28\u001B[0m optimizer\u001B[38;5;241m.\u001B[39mstep()\n",
      "File \u001B[0;32m/Library/Frameworks/Python.framework/Versions/3.10/lib/python3.10/site-packages/torch/optim/optimizer.py:461\u001B[0m, in \u001B[0;36mOptimizer.zero_grad\u001B[0;34m(self, set_to_none)\u001B[0m\n\u001B[1;32m    459\u001B[0m \u001B[38;5;28;01mif\u001B[39;00m p\u001B[38;5;241m.\u001B[39mgrad \u001B[38;5;129;01mis\u001B[39;00m \u001B[38;5;129;01mnot\u001B[39;00m \u001B[38;5;28;01mNone\u001B[39;00m:\n\u001B[1;32m    460\u001B[0m     \u001B[38;5;28;01mif\u001B[39;00m set_to_none:\n\u001B[0;32m--> 461\u001B[0m         p\u001B[38;5;241m.\u001B[39mgrad \u001B[38;5;241m=\u001B[39m \u001B[38;5;28;01mNone\u001B[39;00m\n\u001B[1;32m    462\u001B[0m     \u001B[38;5;28;01melse\u001B[39;00m:\n\u001B[1;32m    463\u001B[0m         \u001B[38;5;28;01mif\u001B[39;00m p\u001B[38;5;241m.\u001B[39mgrad\u001B[38;5;241m.\u001B[39mgrad_fn \u001B[38;5;129;01mis\u001B[39;00m \u001B[38;5;129;01mnot\u001B[39;00m \u001B[38;5;28;01mNone\u001B[39;00m:\n",
      "\u001B[0;31mKeyboardInterrupt\u001B[0m: "
     ]
    }
   ],
   "source": [
    "from gdpr.train.lstm_train_steps import train\n",
    "\n",
    "optimizer = torch.optim.Adam(params=model.parameters(),\n",
    "                             lr=3e-3,\n",
    "                             betas=(0.9, 0.999),\n",
    "                             weight_decay=0.3)\n",
    "device = \"cuda\" if torch.cuda.is_available() else \"cpu\"\n",
    "model.to(device)\n",
    "\n",
    "epochs = 1\n",
    "\n",
    "# print(train_step(model, eval_dataloader, torch.nn.CrossEntropyLoss(), optimizer, device))\n",
    "results = train(model, eval_dataloader, eval_dataloader, optimizer, torch.nn.CrossEntropyLoss(), epochs, device)"
   ]
  },
  {
   "cell_type": "code",
   "execution_count": null,
   "metadata": {},
   "outputs": [],
   "source": []
  }
 ],
 "metadata": {
  "kernelspec": {
   "display_name": "venv",
   "language": "python",
   "name": "python3"
  },
  "language_info": {
   "codemirror_mode": {
    "name": "ipython",
    "version": 3
   },
   "file_extension": ".py",
   "mimetype": "text/x-python",
   "name": "python",
   "nbconvert_exporter": "python",
   "pygments_lexer": "ipython3",
   "version": "3.10.9"
  }
 },
 "nbformat": 4,
 "nbformat_minor": 2
}
